{
  "cells": [
    {
      "cell_type": "markdown",
      "metadata": {
        "id": "view-in-github",
        "colab_type": "text"
      },
      "source": [
        "<a href=\"https://colab.research.google.com/github/TechEnthusiastArmaan/Daily_Diary/blob/main/day_3.ipynb\" target=\"_parent\"><img src=\"https://colab.research.google.com/assets/colab-badge.svg\" alt=\"Open In Colab\"/></a>"
      ]
    },
    {
      "cell_type": "code",
      "execution_count": null,
      "metadata": {
        "colab": {
          "base_uri": "https://localhost:8080/"
        },
        "id": "XmyBZ9GQSvHg",
        "outputId": "07187125-cbec-4fc9-80f4-cc0a7815be8e"
      },
      "outputs": [
        {
          "name": "stdout",
          "output_type": "stream",
          "text": [
            "{2, 3, 5, 7, 11, 13, 17, 19, 23}\n",
            "{2, 3, 5, 7, 11, 13, 17, 19, 23}\n",
            "{2, 5, 7, 11, 13, 17, 19, 23}\n",
            "False\n",
            "{2, 5, 7, 11, 13, 17, 19, 23}\n",
            "frozenset({2, 5, 7, 11, 13, 17, 19, 23})\n",
            "set()\n",
            "None\n",
            "{'orange'}\n",
            "{64, 1, 4, 36, 100, 9, 16, 49, 81, 25}\n"
          ]
        }
      ],
      "source": [
        "#8/6\n",
        "# SETS\n",
        "# question 1\n",
        "prime = {2,3,5,7,11,13,17,19,23}\n",
        "print(prime)\n",
        "\n",
        "# question 2\n",
        "prime.add(7)\n",
        "print(prime)\n",
        "\n",
        "# question 3\n",
        "prime.remove(3)\n",
        "print(prime)\n",
        "\n",
        "# question 4\n",
        "a = {2,3,5,7,11}\n",
        "print(prime.issubset(a))\n",
        "\n",
        "# question 5\n",
        "b = {7,11,13}\n",
        "prime. union(b)\n",
        "print(prime)\n",
        "\n",
        "# question 6\n",
        "fs = frozenset(prime)\n",
        "print(fs)\n",
        "\n",
        "# question 7\n",
        "c = {1,4,9}\n",
        "print(prime.intersection(c))\n",
        "\n",
        "# question 8\n",
        "print(prime.clear())\n",
        "\n",
        "# question 9\n",
        "fruits =  { 'apple', 'banana', 'orange' }\n",
        "myfruits = {'watermelon','avacado','orange'}\n",
        "print(fruits.intersection(myfruits))\n",
        "\n",
        "# question 10\n",
        "squares = {x**2 for x in range(1, 11)}\n",
        "print(squares)"
      ]
    },
    {
      "cell_type": "code",
      "execution_count": null,
      "metadata": {
        "id": "8s7pU_V4S_mj"
      },
      "outputs": [],
      "source": [
        "# TUPLES\n",
        "# question 1 - 10\n",
        "tup1 = (1,1.2,\"heyy\")\n",
        "print(tup1)\n",
        "print(tup1[1])\n",
        "tup2 = (2,4,6)\n",
        "print(tup1 + tup2)\n",
        "a, b, c = tup1\n",
        "print(a)\n",
        "print(b)\n",
        "print(c)\n",
        "print('apple' in tup1)\n",
        "new = tup1* 3\n",
        "print(new)\n",
        "print(tup1.index(1.2))\n",
        "lis = list(tup1)\n",
        "print(lis)\n",
        "colors = ('red','green','blue')\n",
        "print(tup1+colors)"
      ]
    },
    {
      "cell_type": "code",
      "execution_count": null,
      "metadata": {
        "id": "qSRjHt-STDgZ"
      },
      "outputs": [],
      "source": [
        "# LIST\n",
        "# question 1 - 10\n",
        "lis1 = [1,2,3,4,5]\n",
        "print(lis1)\n",
        "print(lis1.append(6))\n",
        "lis2 = [7,8,9]\n",
        "print(lis1.extend(lis2))\n"
      ]
    },
    {
      "cell_type": "code",
      "execution_count": null,
      "metadata": {
        "colab": {
          "base_uri": "https://localhost:8080/"
        },
        "id": "k0BYg-WrTHIt",
        "outputId": "ceffb1ca-8179-4256-9921-f7f8fa88b6fc"
      },
      "outputs": [
        {
          "name": "stdout",
          "output_type": "stream",
          "text": [
            "19\n",
            "{'Name': 'Ram', 'Age': '19', 'Grade': 99}\n",
            "{'Name': 'Ram', 'Age': '19', 'Grade': 99, 'subject': 'Maths'}\n",
            "{'a': 1, 'b': 2, 'c': 3, 'd': 4, 'e': 5, 'f': 6}\n",
            "{'b': 2, 'c': 3, 'd': 4, 'e': 5, 'f': 6}\n"
          ]
        }
      ],
      "source": [
        "# DiCTIONARY\n",
        "# question 1\n",
        "student = {'Name': 'Ram', 'Age': '19', 'Grade':100}\n",
        "print(student['Age'])\n",
        "student['Grade'] = 99\n",
        "print(student)\n",
        "student['subject'] = 'Maths'\n",
        "print(student)\n",
        "\n",
        "# question 2\n",
        "dict1 = {'a':1,'b':2,'c':3}\n",
        "dict2 = {'d':4,'e':5,'f':6}\n",
        "dict1.update(dict2)\n",
        "merged_dict = dict1.copy()\n",
        "print(merged_dict)\n",
        "merged_dict.pop('a')\n",
        "print(merged_dict)"
      ]
    },
    {
      "cell_type": "code",
      "execution_count": null,
      "metadata": {
        "colab": {
          "base_uri": "https://localhost:8080/"
        },
        "id": "TnnFZ-cz0D5y",
        "outputId": "32cf26fb-c949-4526-ffa4-9acbe17ee206"
      },
      "outputs": [
        {
          "name": "stdout",
          "output_type": "stream",
          "text": [
            "Name Ram\n",
            "Age 19\n",
            "Grade 99\n",
            "subject Maths\n"
          ]
        }
      ],
      "source": [
        "# question 3\n",
        "students = {'Name': 'Ram', 'Age': '19', 'Grade':100}\n",
        "for key,value in student.items():\n",
        "    print(key,value)"
      ]
    },
    {
      "cell_type": "code",
      "execution_count": null,
      "metadata": {
        "colab": {
          "base_uri": "https://localhost:8080/"
        },
        "id": "AyAy2OkC0j6s",
        "outputId": "b458b49d-4ec8-4717-c511-606233f75700"
      },
      "outputs": [
        {
          "name": "stdout",
          "output_type": "stream",
          "text": [
            "{1: 1, 2: 4, 3: 9, 4: 16, 5: 25, 6: 36, 7: 49, 8: 64, 9: 81, 10: 100}\n",
            "{2: 4, 4: 16, 6: 36, 8: 64, 10: 100}\n"
          ]
        }
      ],
      "source": [
        "# question 4\n",
        "squares = {i: i**2 for i in range(1, 11)}\n",
        "even_squares = {i: i**2 for i in range(1, 11) if i**2 % 2 == 0}\n",
        "print(squares)\n",
        "print(even_squares)"
      ]
    },
    {
      "cell_type": "code",
      "execution_count": null,
      "metadata": {
        "colab": {
          "base_uri": "https://localhost:8080/"
        },
        "id": "Mk2hhlr62Hdk",
        "outputId": "52c4be40-3847-45b3-e765-98c3a8e887ac"
      },
      "outputs": [
        {
          "name": "stdout",
          "output_type": "stream",
          "text": [
            "{'Name': 'Ram', 'Age': 19, 'Grade': 100}\n",
            "17\n"
          ]
        }
      ],
      "source": [
        "# question 5\n",
        "school = {\n",
        "    \"student1\": {\n",
        "        \"Name\": \"Ram\",\n",
        "        \"Age\": 19,\n",
        "        \"Grade\": 100\n",
        "    },\n",
        "    \"student2\": {\n",
        "        \"Name\": \"John\",\n",
        "        \"Age\": 17,\n",
        "        \"Grade\": 90\n",
        "    }\n",
        "}\n",
        "\n",
        "print(school[\"student1\"])\n",
        "\n",
        "print(school[\"student2\"][\"Age\"])"
      ]
    },
    {
      "cell_type": "code",
      "execution_count": null,
      "metadata": {
        "colab": {
          "base_uri": "https://localhost:8080/"
        },
        "id": "7EP67aq9j6_m",
        "outputId": "88d0f8e6-0cd2-4c1f-dc49-35ec8b6e6168"
      },
      "outputs": [
        {
          "name": "stdout",
          "output_type": "stream",
          "text": [
            "Number of items: 3\n",
            "Keys: dict_keys(['a', 'b', 'c'])\n",
            "Values: dict_values([1, 2, 3])\n",
            "Items: dict_items([('a', 1), ('b', 2), ('c', 3)])\n"
          ]
        }
      ],
      "source": [
        "# question 6\n",
        "my_dict = {'a': 1, 'b': 2, 'c': 3}\n",
        "\n",
        "num_items = len(my_dict)\n",
        "print(\"Number of items:\", num_items)\n",
        "\n",
        "keys = my_dict.keys()\n",
        "print(\"Keys:\", keys)\n",
        "values = my_dict.values()\n",
        "print(\"Values:\", values)\n",
        "\n",
        "items = my_dict.items()\n",
        "print(\"Items:\", items)"
      ]
    },
    {
      "cell_type": "code",
      "execution_count": null,
      "metadata": {
        "colab": {
          "base_uri": "https://localhost:8080/"
        },
        "id": "UhjIaCD-kLhX",
        "outputId": "ec75e02c-cc0f-41d9-b8d4-d9f4ee647263"
      },
      "outputs": [
        {
          "name": "stdout",
          "output_type": "stream",
          "text": [
            "Sorted keys: ['a', 'b', 'c']\n"
          ]
        }
      ],
      "source": [
        "# question 7\n",
        "my_dict = {'c': 3, 'a': 1, 'b': 2}\n",
        "\n",
        "sorted_keys = sorted(my_dict.keys())\n",
        "print(\"Sorted keys:\", sorted_keys)"
      ]
    },
    {
      "cell_type": "code",
      "execution_count": null,
      "metadata": {
        "colab": {
          "base_uri": "https://localhost:8080/"
        },
        "id": "KCpSu3HOkSH3",
        "outputId": "db40f573-c22a-4b3f-f34e-90cb201cb386"
      },
      "outputs": [
        {
          "name": "stdout",
          "output_type": "stream",
          "text": [
            "Value for key 'd': 0\n",
            "Removed value for key 'b': 2\n",
            "Updated dictionary: {'a': 1, 'c': 3}\n"
          ]
        }
      ],
      "source": [
        "# question 8\n",
        "my_dict = {'a': 1, 'b': 2, 'c': 3}\n",
        "\n",
        "value = my_dict.get('d', 0)\n",
        "print(\"Value for key 'd':\", value)\n",
        "\n",
        "removed_value = my_dict.pop('b')\n",
        "print(\"Removed value for key 'b':\", removed_value)\n",
        "print(\"Updated dictionary:\", my_dict)"
      ]
    },
    {
      "cell_type": "code",
      "execution_count": null,
      "metadata": {
        "colab": {
          "base_uri": "https://localhost:8080/"
        },
        "id": "HcXyt_WUkq7T",
        "outputId": "05af9879-c7ef-4911-d38c-68d4611610b3"
      },
      "outputs": [
        {
          "output_type": "stream",
          "name": "stdout",
          "text": [
            "{'joey', 'ross'}\n"
          ]
        }
      ],
      "source": [
        "# practice question (Sets)\n",
        "# question 1\n",
        "\n",
        "math_students = {'joey','chandler','ross','monica'}\n",
        "science_students = {\"Bob\", \"joey\", \"ross\", \"Luke\"}\n",
        "\n",
        "both_classes = math_students.intersection(science_students)\n",
        "\n",
        "print(both_classes) # Output: {'David', 'Bob'}"
      ]
    },
    {
      "cell_type": "code",
      "source": [
        "# question 2\n",
        "employee_ids = {101, 102, 103, 104}\n",
        "\n",
        "new_id = 105\n",
        "\n",
        "employee_ids.add(new_id)\n",
        "\n",
        "print(employee_ids)"
      ],
      "metadata": {
        "colab": {
          "base_uri": "https://localhost:8080/"
        },
        "id": "VsIZkKQDdfHL",
        "outputId": "a84d59ae-da7a-4bc2-f664-41650f2b6c08"
      },
      "execution_count": null,
      "outputs": [
        {
          "output_type": "stream",
          "name": "stdout",
          "text": [
            "{101, 102, 103, 104, 105}\n"
          ]
        }
      ]
    },
    {
      "cell_type": "code",
      "source": [
        "# question 3\n",
        "project1_team = {\"Alice\", \"Bob\", \"Charlie\"}\n",
        "project2_team = {\"Bob\", \"David\", \"Eve\"}\n",
        "\n",
        "all_team_members = project1_team.union(project2_team)\n",
        "\n",
        "print(all_team_members)"
      ],
      "metadata": {
        "colab": {
          "base_uri": "https://localhost:8080/"
        },
        "id": "1vg2BuYNdpsE",
        "outputId": "37bb4460-fa82-4f0e-d004-e26ba8a49002"
      },
      "execution_count": null,
      "outputs": [
        {
          "output_type": "stream",
          "name": "stdout",
          "text": [
            "{'Eve', 'Bob', 'David', 'Alice', 'Charlie'}\n"
          ]
        }
      ]
    },
    {
      "cell_type": "code",
      "source": [
        "# question 5\n",
        "products_in_stock = {1, 2, 3, 4, 5}\n",
        "products_sold = {3, 5, 6}\n",
        "\n",
        "remaining_stock = products_in_stock.difference(products_sold)\n",
        "\n",
        "print(remaining_stock)"
      ],
      "metadata": {
        "colab": {
          "base_uri": "https://localhost:8080/"
        },
        "id": "k5irPCJgd75w",
        "outputId": "bbd3e2da-646c-4cde-acdd-7887998c79aa"
      },
      "execution_count": null,
      "outputs": [
        {
          "output_type": "stream",
          "name": "stdout",
          "text": [
            "{1, 2, 4}\n"
          ]
        }
      ]
    },
    {
      "cell_type": "code",
      "source": [
        "# question 6\n",
        "attendees = {\"Alice\", \"Bob\", \"Charlie\", \"David\"}\n",
        "\n",
        "person_to_check = \"Eve\"\n",
        "\n",
        "is_registered = person_to_check in attendees\n",
        "\n",
        "print(f\"Is {person_to_check} registered? {is_registered}\")"
      ],
      "metadata": {
        "colab": {
          "base_uri": "https://localhost:8080/"
        },
        "id": "h132ajO7eHbE",
        "outputId": "ec92241a-63a9-42fb-8f09-feb819389a8d"
      },
      "execution_count": null,
      "outputs": [
        {
          "output_type": "stream",
          "name": "stdout",
          "text": [
            "Is Eve registered? False\n"
          ]
        }
      ]
    },
    {
      "cell_type": "code",
      "source": [
        "# question 8\n",
        "tags = {\"python\", \"programming\", \"tutorial\"}\n",
        "\n",
        "new_tags = {\"data science\", \"machine learning\"}\n",
        "\n",
        "tags.update(new_tags)\n",
        "\n",
        "print(tags)"
      ],
      "metadata": {
        "colab": {
          "base_uri": "https://localhost:8080/"
        },
        "id": "Pls0g3sMeWwq",
        "outputId": "31dd45e4-767f-409a-8c43-87234f109e76"
      },
      "execution_count": null,
      "outputs": [
        {
          "output_type": "stream",
          "name": "stdout",
          "text": [
            "{'data science', 'machine learning', 'programming', 'python', 'tutorial'}\n"
          ]
        }
      ]
    },
    {
      "cell_type": "code",
      "source": [
        "# practice question on dictionary\n",
        "inventory = {\"apple\": 10, \"banana\": 15, \"orange\": 8}\n",
        "\n",
        "new_item = \"grape\"\n",
        "new_quantity = 12\n",
        "\n",
        "inventory[new_item] = new_quantity\n",
        "\n",
        "print(inventory)"
      ],
      "metadata": {
        "id": "jTb_ZifUfiws"
      },
      "execution_count": null,
      "outputs": []
    },
    {
      "cell_type": "code",
      "source": [
        "# question 3\n",
        "country_capitals = {\"USA\": \"Washington D.C.\", \"France\": \"Paris\", \"Japan\": \"Tokyo\"}\n",
        "country_to_update = \"France\"\n",
        "new_capital = \"Lyon\"\n",
        "\n",
        "# Update the capital of the country\n",
        "country_capitals[country_to_update] = new_capital\n",
        "print(country_capitals)"
      ],
      "metadata": {
        "id": "5_UkHlhTQyW4",
        "outputId": "9af059b6-adf0-4c96-e06c-30c3d214c537",
        "colab": {
          "base_uri": "https://localhost:8080/"
        }
      },
      "execution_count": null,
      "outputs": [
        {
          "output_type": "stream",
          "name": "stdout",
          "text": [
            "{'USA': 'Washington D.C.', 'France': 'Lyon', 'Japan': 'Tokyo'}\n"
          ]
        }
      ]
    },
    {
      "cell_type": "code",
      "source": [],
      "metadata": {
        "id": "Jx5xEMvxQ5Q9"
      },
      "execution_count": null,
      "outputs": []
    }
  ],
  "metadata": {
    "colab": {
      "provenance": [],
      "authorship_tag": "ABX9TyPEsRoeuUnU7Ryq1096qO3D",
      "include_colab_link": true
    },
    "kernelspec": {
      "display_name": "Python 3",
      "name": "python3"
    },
    "language_info": {
      "name": "python"
    }
  },
  "nbformat": 4,
  "nbformat_minor": 0
}
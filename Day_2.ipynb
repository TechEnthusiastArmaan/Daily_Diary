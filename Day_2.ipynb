{
  "cells": [
    {
      "cell_type": "markdown",
      "metadata": {
        "id": "view-in-github",
        "colab_type": "text"
      },
      "source": [
        "<a href=\"https://colab.research.google.com/github/TechEnthusiastArmaan/Daily_Diary/blob/main/Day_2.ipynb\" target=\"_parent\"><img src=\"https://colab.research.google.com/assets/colab-badge.svg\" alt=\"Open In Colab\"/></a>"
      ]
    },
    {
      "cell_type": "code",
      "execution_count": null,
      "metadata": {
        "colab": {
          "base_uri": "https://localhost:8080/"
        },
        "id": "CxD3bsP7UGIZ",
        "outputId": "abbc69ff-a266-4fbf-f1e3-46b9159384c9"
      },
      "outputs": [
        {
          "name": "stdout",
          "output_type": "stream",
          "text": [
            "red\n",
            "blue\n",
            "green\n",
            "yellow\n",
            "['blue', 'green']\n"
          ]
        }
      ],
      "source": [
        "# 7/6\n",
        "# list and Tuple\n",
        "\n",
        "colors = ['red', 'blue', 'green', 'yellow']\n",
        "print(colors[0])\n",
        "print(colors[1])\n",
        "print(colors[2])\n",
        "print(colors[3])\n",
        "print(colors[1:3])\n",
        "# print(colors[4])"
      ]
    },
    {
      "cell_type": "code",
      "execution_count": null,
      "metadata": {
        "colab": {
          "base_uri": "https://localhost:8080/"
        },
        "id": "26r-lcSpU6TP",
        "outputId": "513e8422-73f8-4abb-d2f6-2f5594dba598"
      },
      "outputs": [
        {
          "name": "stdout",
          "output_type": "stream",
          "text": [
            "[730, 709, 693, 712, 733, 751, 740]\n"
          ]
        }
      ],
      "source": [
        "water_level = [730, 709, 682, 712, 733, 751, 740]\n",
        "water_level.insert(2,693)\n",
        "water_level.remove(682)\n",
        "print(water_level)"
      ]
    },
    {
      "cell_type": "code",
      "execution_count": null,
      "metadata": {
        "colab": {
          "base_uri": "https://localhost:8080/"
        },
        "id": "-9_WTcGnU_8e",
        "outputId": "814d1ec6-83fb-4a6c-a8db-630052d59198"
      },
      "outputs": [
        {
          "name": "stdout",
          "output_type": "stream",
          "text": [
            "[730, 709, 693, 712, 733, 751, 740, 772]\n"
          ]
        }
      ],
      "source": [
        "water_level.append(772)\n",
        "print(water_level)"
      ]
    },
    {
      "cell_type": "code",
      "execution_count": null,
      "metadata": {
        "colab": {
          "base_uri": "https://localhost:8080/"
        },
        "id": "xcZKc0plVCty",
        "outputId": "6e3636e8-d92a-4526-b569-2a61d336ead8"
      },
      "outputs": [
        {
          "name": "stdout",
          "output_type": "stream",
          "text": [
            "[730, 709, 693, 712, 733, 751, 740, 772, 772, 770, 745]\n"
          ]
        }
      ],
      "source": [
        "water_level.append(772)\n",
        "water_level.append(770)\n",
        "water_level.append(745)\n",
        "print(water_level)\n"
      ]
    },
    {
      "cell_type": "code",
      "execution_count": null,
      "metadata": {
        "colab": {
          "base_uri": "https://localhost:8080/"
        },
        "id": "Qh65AskmVFQS",
        "outputId": "dcf88839-de02-43db-94e4-74c27dd81f48"
      },
      "outputs": [
        {
          "data": {
            "text/plain": [
              "730"
            ]
          },
          "execution_count": 5,
          "metadata": {},
          "output_type": "execute_result"
        }
      ],
      "source": [
        "water_level = [730, 709, 682, 712, 733, 751, 740]\n",
        "water_level.pop(0)"
      ]
    },
    {
      "cell_type": "code",
      "execution_count": null,
      "metadata": {
        "colab": {
          "base_uri": "https://localhost:8080/"
        },
        "id": "p0vfLnNgVJjO",
        "outputId": "48ed5019-3159-4789-d296-e8f12fa42bc1"
      },
      "outputs": [
        {
          "name": "stdout",
          "output_type": "stream",
          "text": [
            "[709, 682, 712, 733, 751, 740]\n"
          ]
        }
      ],
      "source": [
        "water_level = [730, 709, 682, 712, 733, 751, 740]\n",
        "water_level.remove(730)\n",
        "print(water_level)"
      ]
    },
    {
      "cell_type": "code",
      "execution_count": null,
      "metadata": {
        "colab": {
          "base_uri": "https://localhost:8080/"
        },
        "id": "CJxOysojVMK4",
        "outputId": "da394d34-f6c5-4509-879e-f5c2e1cd18c4"
      },
      "outputs": [
        {
          "name": "stdout",
          "output_type": "stream",
          "text": [
            "green\n"
          ]
        }
      ],
      "source": [
        "tup = ('red','green','blue')\n",
        "print(tup[1])"
      ]
    },
    {
      "cell_type": "code",
      "execution_count": null,
      "metadata": {
        "colab": {
          "base_uri": "https://localhost:8080/"
        },
        "id": "YmqzQPVhVOPj",
        "outputId": "f5fd3fd7-2764-42bf-9568-911833693dee"
      },
      "outputs": [
        {
          "name": "stdout",
          "output_type": "stream",
          "text": [
            "(2, 3, 4)\n",
            "(5, 4, 3, 2, 1)\n"
          ]
        }
      ],
      "source": [
        "numbers = (1, 2, 3, 4, 5)\n",
        "print(numbers[1:4])\n",
        "print(numbers[::-1])"
      ]
    },
    {
      "cell_type": "code",
      "execution_count": null,
      "metadata": {
        "colab": {
          "base_uri": "https://localhost:8080/"
        },
        "id": "r7rLOCyGVQk2",
        "outputId": "ea7c5563-082c-483b-964f-9b182c5dfe0f"
      },
      "outputs": [
        {
          "name": "stdout",
          "output_type": "stream",
          "text": [
            "('apple', 'banana', 'strawberry', 'blueberry')\n"
          ]
        }
      ],
      "source": [
        "fruits = ('apple', 'banana')\n",
        "berries = ('strawberry', 'blueberry')\n",
        "combined_fruits = fruits + berries\n",
        "print(combined_fruits)"
      ]
    },
    {
      "cell_type": "code",
      "execution_count": null,
      "metadata": {
        "colab": {
          "base_uri": "https://localhost:8080/"
        },
        "id": "wp7YrCUiVgBf",
        "outputId": "6c5b92c7-ba62-4617-913b-18e9a969201e"
      },
      "outputs": [
        {
          "name": "stdout",
          "output_type": "stream",
          "text": [
            "1\n",
            "2\n"
          ]
        }
      ],
      "source": [
        "numbers = (90, 85, 92, 88, 95)\n",
        "print(numbers.count(88))\n",
        "print(numbers.index(92))"
      ]
    },
    {
      "cell_type": "code",
      "execution_count": null,
      "metadata": {
        "colab": {
          "base_uri": "https://localhost:8080/"
        },
        "id": "QyXvgdBwViO3",
        "outputId": "daa225ef-e3bc-42f3-c6ed-8e7d21e78152"
      },
      "outputs": [
        {
          "name": "stdout",
          "output_type": "stream",
          "text": [
            "42\n"
          ]
        }
      ],
      "source": [
        "mixed_tuple = ('apple',42,3.14)\n",
        "print(mixed_tuple[1])\n"
      ]
    },
    {
      "cell_type": "code",
      "execution_count": null,
      "metadata": {
        "colab": {
          "base_uri": "https://localhost:8080/"
        },
        "id": "TCus27OBVkHE",
        "outputId": "e77ba373-40eb-49ed-eb69-3d0eaafaad3c"
      },
      "outputs": [
        {
          "name": "stdout",
          "output_type": "stream",
          "text": [
            "('cat', 'dog', 'rabbit')\n",
            "<class 'tuple'>\n"
          ]
        }
      ],
      "source": [
        "lis = ['cat', 'dog', 'rabbit']\n",
        "animals = tuple(lis)\n",
        "print(animals)\n",
        "print(type(animals))"
      ]
    },
    {
      "cell_type": "code",
      "execution_count": null,
      "metadata": {
        "colab": {
          "base_uri": "https://localhost:8080/"
        },
        "id": "f1FF14wJVmB4",
        "outputId": "cefa413a-948f-49ff-de54-51a27838323c"
      },
      "outputs": [
        {
          "name": "stdout",
          "output_type": "stream",
          "text": [
            "green\n"
          ]
        }
      ],
      "source": [
        "outer_tuple = (\"apple\",('red','green','yellow'))\n",
        "print(outer_tuple[1][1])"
      ]
    },
    {
      "cell_type": "code",
      "source": [
        "# # practice Questions\n",
        "# 1.\n",
        "#    - You are managing the inventory for a small bookstore. Create a list of book titles available in the store. Add new titles to the list as they arrive. If a book is sold out, remove it from the list. Write a function to check if a specific book is in stock.\n",
        "\n",
        "# 2.\n",
        "#    - You have a list of grades for a class of students. Write a function to add a new grade to the list. Another function should remove the lowest grade. Write a third function to calculate the average grade.\n",
        "\n",
        "# 3.\n",
        "#    - Implement a simple to-do list application. Create a list to store tasks. Write functions to add a task, remove a task by its name, and display all tasks. Ensure that the tasks are displayed in the order they were added.\n",
        "\n",
        "# 4.\n",
        "#    - Create a list to store items you need to buy from the grocery store. Write functions to add items, remove items, and check if a specific item is already on the list. Ensure that duplicate items are not added.\n",
        "\n",
        "# 5.\n",
        "#    - You are tracking daily temperatures for a month. Create a list to store these temperatures. Write functions to find the highest and lowest temperatures, and to calculate the average temperature for the month.\n",
        "\n",
        "# 6.\n",
        "#    - You are responsible for assigning seats to students in a classroom. Create a list to represent the seating arrangement. Write functions to assign a seat to a new student, find a student's seat by name, and swap seats between two students.\n",
        "\n",
        "# 7.\n",
        "#    - You are organizing an event and need to manage the guest list. Create a list to store the names of the guests. Write functions to add a guest, remove a guest by name, and check if a person is on the guest list.\n",
        "\n",
        "# 8.\n",
        "#    - Create a playlist for a party. Use a list to store song titles. Write functions to add a song, remove a song by title, and shuffle the playlist. Ensure no duplicate songs are added to the playlist.\n",
        "\n",
        "# 9.\n",
        "#    - You are managing course enrollments for a university. Create a list of students enrolled in a course. Write functions to add a student, remove a student by name, and find the total number of students enrolled.\n",
        "\n",
        "# 10.\n",
        "#     - You are creating a recipe management system. Create a list of ingredients required for a recipe. Write functions to add an ingredient, remove an ingredient by name, and check if a specific ingredient is in the list. Sort the list of ingredients alphabetically.\n",
        "\n",
        "# 11.\n",
        "#     - You are analyzing responses from a survey. Create a list of responses. Write functions to add a response, remove a response by its index, and calculate the frequency of each unique response.\n",
        "\n",
        "# 12.\n",
        "#     - Implement a flight booking system. Create a list to store the names of passengers on a flight. Write functions to add a passenger, remove a passenger by name, and find the seat number of a passenger (assuming the index represents the seat number).\n",
        "\n",
        "# 13.\n",
        "#     - Develop an online shopping cart system. Create a list to store the items in the cart. Write functions to add an item, remove an item by name, and calculate the total price of all items in the cart.\n",
        "\n",
        "# 14.\n",
        "#     - You are managing a library system. Create a list of books currently borrowed by patrons. Write functions to add a borrowed book, return a book (remove it from the list), and check if a specific book is currently borrowed.\n",
        "\n",
        "# 15.\n",
        "#     - Create a weekly meal planner. Use a list to store meals for each day of the week. Write functions to add a meal for a specific day, remove a meal by day, and display the meal plan for the entire week."
      ],
      "metadata": {
        "id": "_046agsMmlns"
      },
      "execution_count": null,
      "outputs": []
    },
    {
      "cell_type": "code",
      "execution_count": null,
      "metadata": {
        "colab": {
          "base_uri": "https://localhost:8080/"
        },
        "id": "T2uwdkwbVoYZ",
        "outputId": "be349e42-a3be-4ce3-be57-bbe18ab950c5"
      },
      "outputs": [
        {
          "output_type": "stream",
          "name": "stdout",
          "text": [
            "press 1 to check the books in the store \n",
            " press 2 to add a new book to the store \n",
            " press 3 to buy a book from the store \n",
            " press 4 to search for the particular book in the store\n",
            "enter your choice: 1\n",
            "not empty\n",
            "['1', '2', '3', '4', '5']\n"
          ]
        }
      ],
      "source": [
        "# question 1\n",
        "lob = ['1','2','3','4','5']\n",
        "def checkbooks():\n",
        "    if(len(lob)==0):\n",
        "      print(\"empty\")\n",
        "    else:\n",
        "      print(\"not empty\")\n",
        "      print(lob)\n",
        "def addbooks():\n",
        "  new = input(\"enter the book name: \")\n",
        "  lob.append(new)\n",
        "  print(lob)\n",
        "def removebooks():\n",
        "  rem = input(\"enter the book name to be removed: \")\n",
        "  lob.remove(rem)\n",
        "  print(lob)\n",
        "def checkbook():\n",
        "  book = input(\"write the name of the book to check if it is in stock or not: \")\n",
        "  if book in lob:\n",
        "    print(\"yes\")\n",
        "  else:\n",
        "    print(\"no\")\n",
        "\n",
        "print(\"press 1 to check the books in the store \\n press 2 to add a new book to the store \\n press 3 to buy a book from the store \\n press 4 to search for the particular book in the store\")\n",
        "choice = int(input(\"enter your choice: \"))\n",
        "if choice == 1:\n",
        "  checkbooks()\n",
        "elif choice == 2:\n",
        "  addbooks()\n",
        "elif choice == 3:\n",
        "  removebooks()\n",
        "elif choice == 4:\n",
        "  checkbook()\n",
        "else:\n",
        "  print(\"invalid choice\")\n"
      ]
    },
    {
      "cell_type": "code",
      "execution_count": null,
      "metadata": {
        "id": "YXbYOZNkVqbt"
      },
      "outputs": [],
      "source": [
        "#question 2\n",
        "grades = [90,80,70,99,88,77,85,95,75]\n",
        "def add_grade():\n",
        "  new = int(input(\"enter the grade to be added: \"))\n",
        "  grades.append(new)\n",
        "  print(grades)\n",
        "def remove_lowestgrade():\n",
        "  grades.remove(min(grades))\n",
        "  print(grades)\n",
        "def average_grade():\n",
        "  sum = 0\n",
        "  for i in grades:\n",
        "    sum += i\n",
        "  print(sum/len(grades))\n",
        "\n",
        "print(\"press 1 to add a new grade \\n press 2 to remove the lowest grade \\n press 3 to calculate the average grade\")\n",
        "choice = input(\"enter your choice: \")\n",
        "if choice == 1:\n",
        "  add_grade()\n",
        "elif choice == 2:\n",
        "  remove_lowestgrade()\n",
        "elif choice == 3:\n",
        "  average_grade()\n",
        "else:\n",
        "  print(\"invalid choice\")"
      ]
    },
    {
      "cell_type": "code",
      "execution_count": null,
      "metadata": {
        "colab": {
          "background_save": true,
          "base_uri": "https://localhost:8080/"
        },
        "id": "H46IW0HbVseu",
        "outputId": "426a9070-81c9-4471-8cd2-0b416597a5a3"
      },
      "outputs": [
        {
          "name": "stdout",
          "output_type": "stream",
          "text": [
            "press 1 to add a new task \n",
            " press 2 to remove a task \n",
            " press 3 to display all the tasks\n"
          ]
        }
      ],
      "source": [
        "tasks = ['shopping','studying','gym','playing']\n",
        "def add_task():\n",
        "  new = input(\"enter the task to be added: \")\n",
        "  tasks.append(new)\n",
        "  print(tasks)\n",
        "def remove_task():\n",
        "  rem = input(\"enter the task to be removed: \")\n",
        "  tasks.remove(rem)\n",
        "  print(tasks)\n",
        "def display_task():\n",
        "  print(tasks)\n",
        "\n",
        "print(\"press 1 to add a new task \\n press 2 to remove a task \\n press 3 to display all the tasks\")\n",
        "choice = int(input(\"enter your choice: \"))\n",
        "if choice == 1:\n",
        "  add_task()\n",
        "elif choice == 2:\n",
        "  remove_task()\n",
        "elif choice == 3:\n",
        "  display_task()\n",
        "else:\n",
        "  print(\"invalid choice\")\n"
      ]
    },
    {
      "cell_type": "code",
      "execution_count": null,
      "metadata": {
        "id": "zFzHF9p5Vuak"
      },
      "outputs": [],
      "source": [
        "# question 4\n",
        "items = ['lentils', 'pulses', 'sugar', 'flour', 'butter']\n",
        "def add_item():\n",
        "  new = input(\"enter the item to be added: \")\n",
        "  items.append(new)\n",
        "  print(items)\n",
        "def remove_item():\n",
        "  rem = input(\"enter the item to be removed: \")\n",
        "  items.remove(rem)\n",
        "  print(items)\n",
        "def checck_item():\n",
        "  item = input(\"write the name of the item to check if it is in stock or not: \")\n",
        "  if item in items:\n",
        "    print(\"yes\")\n",
        "  else:\n",
        "    print(\"no\")\n",
        "\n",
        "print(\"press 1 to add a new item \\n press 2 to remove an item \\n press 3 to check if an item is in stock\")\n",
        "choice = int(input(\"enter your choice: \"))\n",
        "if choice == 1:\n",
        "  add_item()\n",
        "elif choice == 2:\n",
        "  remove_item()\n",
        "elif choice == 3:\n",
        "  checck_item()\n",
        "else:\n",
        "  print(\"invalid choice\")"
      ]
    },
    {
      "cell_type": "code",
      "execution_count": null,
      "metadata": {
        "id": "7LtsvZY6Vwr5"
      },
      "outputs": [],
      "source": [
        "#Question 5\n",
        "temperatures = [40,41,42,45,43,39,38,40,49,35,40,40,40,40,40,40,40,40,41,41,41,41,42,42,42,42,42,43,43]\n",
        "def highest_temp():\n",
        "  print(max(temperatures))\n",
        "def lowest_temp():\n",
        "  print(min(temperatures))\n",
        "def calculate_average():\n",
        "  sum = 0\n",
        "  for i in temperatures:\n",
        "    sum += i\n",
        "  print(round(sum/len(temperatures)),\"°C\")\n",
        "\n",
        "print(\"press 1 to find the highest temperature \\n press 2 to find the lowest temperature \\n press 3 to calculate the average temperature\")\n",
        "choice = int(input(\"enter your choice: \"))\n",
        "if choice == 1:\n",
        "  highest_temp()\n",
        "elif choice == 2:\n",
        "  lowest_temp()\n",
        "elif choice == 3:\n",
        "  calculate_average()\n",
        "else:\n",
        "  print(\"invalid choice\")"
      ]
    },
    {
      "cell_type": "code",
      "execution_count": null,
      "metadata": {
        "id": "93kOWGdLVyqV"
      },
      "outputs": [],
      "source": [
        "#Question 6\n",
        "seating_arrangement = [1,2,3,4,5,6,7,8,9,10,11,12,13,14,15,16,17,18,19,20,21]\n",
        "student_names = ['joey','chandler','ross','rachel','monica','phoebe','gunther','luke','manny','phil','hayley','jay','barney','lily','ted','seinfeld','emily','robin','marshall','george','kramer']\n",
        "def add_student():\n",
        "  new = input(\"enter the student name to be added: \")\n",
        "  student_names.append(new)\n",
        "  seating_arrangement.append(len(student_names))\n",
        "def seat_through_seating_arrangement():\n",
        "  name = input(\"name of the student: \")\n",
        "  for i in student_names:\n",
        "    if i == name:\n",
        "      print(seating_arrangement[student_names.index(name)])\n",
        "def swap_seats():\n",
        "  name1 = input(\"name of the first student: \")\n",
        "  name2 = input(\"name of the second student: \")\n",
        "  index1 = student_names.index(name1)\n",
        "  index2 = student_names.index(name2)\n",
        "  temp = seating_arrangement[index1]\n",
        "  seating_arrangement[index1] = seating_arrangement[index2]\n",
        "  seating_arrangement[index2] = temp\n",
        "  print(seating_arrangement)\n",
        "print(\"press 1 to add a new student \\n press 2 to seat through the seating arrangement \\n press 3 to swap seats\")\n",
        "choice = int(input(\"enter your choice: \"))\n",
        "if choice == 1:\n",
        "  add_student()\n",
        "elif choice == 2:\n",
        "  seat_through_seating_arrangement()\n",
        "elif choice == 3:\n",
        "  swap_seats()\n",
        "else:\n",
        "  print(\"invalid choice\")\n"
      ]
    },
    {
      "cell_type": "code",
      "execution_count": null,
      "metadata": {
        "id": "BPCKOiNmV1Qp"
      },
      "outputs": [],
      "source": [
        "#Question 7\n",
        "guest_names = ['joey','chandler','ross','rachel','monica','phoebe','gunther','luke','manny','phil','hayley','jay','barney','lily','ted','seinfeld','emily','robin','marshall','george','kramer']\n",
        "def add_guest():\n",
        "  new = input(\"enter the guest name to be added: \")\n",
        "  guest_names.append(new)\n",
        "  print(guest_names)\n",
        "def remove_guest():\n",
        "  rem = input(\"enter the guest name to be removed: \")\n",
        "  guest_names.remove(rem)\n",
        "  print(guest_names)\n",
        "def check_guest():\n",
        "  guest = input(\"write the name of the guest to check if he/she is present or not: \")\n",
        "  if guest in guest_names:\n",
        "    print(\"yes\")\n",
        "  else:\n",
        "    print(\"no\")\n",
        "print(\"press 1 to add a new guest \\n press 2 to remove a guest \\n press 3 to check if a guest is present\")\n",
        "choice = int(input(\"enter your choice: \"))\n",
        "if choice == 1:\n",
        "  add_guest()\n",
        "elif choice == 2:\n",
        "  remove_guest()\n",
        "elif choice == 3:\n",
        "  check_guest()\n",
        "else:\n",
        "  print(\"invalid choice\")"
      ]
    },
    {
      "cell_type": "code",
      "execution_count": null,
      "metadata": {
        "id": "h_rfhe6OV3Ty"
      },
      "outputs": [],
      "source": [
        "# Question 8\n",
        "song_titles = ['song1','song2','song3','song4','song5']\n",
        "def add_song():\n",
        "  new = input(\"enter the song title to be added: \")\n",
        "  song_titles.append(new)\n",
        "  print(song_titles)\n",
        "def remove_song():\n",
        "  rem = input(\"enter the song title to be removed: \")\n",
        "  song_titles.remove(rem)\n",
        "  print(song_titles)\n",
        "def shuffle_songs():\n",
        "  import random\n",
        "  random.shuffle(song_titles)\n",
        "  print(song_titles)\n",
        "print(\"press 1 to add a new song \\n press 2 to remove a song \\n press 3 to shuffle the songs\")\n",
        "choice = int(input(\"enter your choice: \"))\n",
        "if choice == 1:\n",
        "  add_song()\n",
        "elif choice == 2:\n",
        "  remove_song()\n",
        "elif choice == 3:\n",
        "  shuffle_songs()\n",
        "else:\n",
        "  print(\"invalid choice\")"
      ]
    },
    {
      "cell_type": "code",
      "execution_count": null,
      "metadata": {
        "id": "Xnq_gkBxV5Yn"
      },
      "outputs": [],
      "source": [
        "# question 11\n",
        "response = ['good','better','best','good']\n",
        "def add_response():\n",
        "  new = input(\"enter the response to be added: \")\n",
        "  response.append(new)\n",
        "  print(response)\n",
        "def remove_response():\n",
        "  rem = input(\"enter the response to be removed: \")\n",
        "  ind = rem.find(rem)\n",
        "  response.pop(ind)\n",
        "  print(response)\n",
        "\n",
        "\n",
        "def frequency():\n",
        "  freq = {}\n",
        "  for i in response:\n",
        "    if i in freq:\n",
        "      freq[i] += 1\n",
        "    else:\n",
        "      freq[i] = 1\n",
        "  print(freq)\n",
        "frequency()\n",
        "print(\"press 1 to add a new response \\n press 2 to remove a response \\n press 3 to find the frequency of a response\")\n",
        "choice = int(input(\"enter your choice: \"))\n",
        "if choice == 1:\n",
        "  add_response()\n",
        "elif choice == 2:\n",
        "  remove_response()\n",
        "elif choice == 3:\n",
        "  frequency()\n",
        "else:\n",
        "  print(\"invalid choice\")"
      ]
    },
    {
      "cell_type": "code",
      "source": [
        "# question 15\n",
        "weekly_meal_planner = [None] * 7\n",
        "\n",
        "def add_meal(day, meal):\n",
        "  if day < 1 or day > 7:\n",
        "    print(\"Invalid day. Please enter a value between 1 and 7.\")\n",
        "    return\n",
        "  weekly_meal_planner[day - 1] = meal\n",
        "\n",
        "def remove_meal(day):\n",
        "  if day < 1 or day > 7:\n",
        "    print(\"Invalid day. Please enter a value between 1 and 7.\")\n",
        "    return\n",
        "  weekly_meal_planner[day - 1] = None\n",
        "\n",
        "def display_meal_plan():\n",
        "  for day, meal in enumerate(weekly_meal_planner, start=1):\n",
        "    print(f\"Day {day}: {meal}\")\n",
        "\n",
        "add_meal(1, \"Omelette\")\n",
        "add_meal(3, \"Pasta\")\n",
        "add_meal(5, \"Pizza\")\n",
        "\n",
        "remove_meal(2)\n",
        "\n",
        "display_meal_plan()"
      ],
      "metadata": {
        "id": "2jyocl5imwUl"
      },
      "execution_count": null,
      "outputs": []
    },
    {
      "cell_type": "code",
      "source": [],
      "metadata": {
        "id": "zwZBnCohuszR"
      },
      "execution_count": null,
      "outputs": []
    }
  ],
  "metadata": {
    "colab": {
      "provenance": [],
      "authorship_tag": "ABX9TyNdo0/tKvWr2Jxe28nVFJm5",
      "include_colab_link": true
    },
    "kernelspec": {
      "display_name": "Python 3",
      "name": "python3"
    },
    "language_info": {
      "name": "python"
    }
  },
  "nbformat": 4,
  "nbformat_minor": 0
}
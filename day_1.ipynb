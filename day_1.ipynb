{
  "nbformat": 4,
  "nbformat_minor": 0,
  "metadata": {
    "colab": {
      "provenance": [],
      "authorship_tag": "ABX9TyO4FW5cw2UEpZs+d9e6/8vB",
      "include_colab_link": true
    },
    "kernelspec": {
      "name": "python3",
      "display_name": "Python 3"
    },
    "language_info": {
      "name": "python"
    }
  },
  "cells": [
    {
      "cell_type": "markdown",
      "metadata": {
        "id": "view-in-github",
        "colab_type": "text"
      },
      "source": [
        "<a href=\"https://colab.research.google.com/github/TechEnthusiastArmaan/Daily_Diary/blob/main/day_1.ipynb\" target=\"_parent\"><img src=\"https://colab.research.google.com/assets/colab-badge.svg\" alt=\"Open In Colab\"/></a>"
      ]
    },
    {
      "cell_type": "code",
      "execution_count": null,
      "metadata": {
        "id": "1gmJeRY5ym3i"
      },
      "outputs": [],
      "source": []
    },
    {
      "cell_type": "code",
      "source": [],
      "metadata": {
        "id": "mBhVo9NGz2mu"
      },
      "execution_count": null,
      "outputs": []
    },
    {
      "cell_type": "code",
      "source": [
        "# day 1\n",
        "print(\"Hello, World!\")\n",
        "# addition\n",
        "print(2+1)\n",
        "# subtraction\n",
        "print(2-1)\n",
        "# multiplication\n",
        "print(2*1)\n",
        "# division\n",
        "print(2/1)\n",
        "# floor division\n",
        "print(2//1)\n",
        "# modulo\n",
        "print(2%1)\n",
        "# exponential\n",
        "print(2**1)\n",
        "\n",
        "# operator precedence\n",
        "print((5+2)*3**2-1)\n",
        "\n",
        "# activity 1\n",
        "wins = 3\n",
        "draw = 1\n",
        "loss = 0\n",
        "\n",
        "\n",
        "# activity 2\n",
        "raisin = 50\n",
        "almond = 60\n",
        "apricot = 20\n",
        "\n",
        "raisin_percentage = round((50/130)*100)\n",
        "almond_percentage = round((60/130)*100)\n",
        "apricot_percentage = round((20/130)*100)\n",
        "\n",
        "print(f\"{raisin_percentage}%,{almond_percentage}%,{apricot_percentage}%\")"
      ],
      "metadata": {
        "colab": {
          "base_uri": "https://localhost:8080/"
        },
        "id": "1az2ef_Iy0E4",
        "outputId": "2af3aed6-4e86-45bd-809d-c243035efb22"
      },
      "execution_count": null,
      "outputs": [
        {
          "output_type": "stream",
          "name": "stdout",
          "text": [
            "Hello, World!\n",
            "3\n",
            "1\n",
            "2\n",
            "2.0\n",
            "2\n",
            "0\n",
            "2\n",
            "62\n",
            "<class 'int'>\n",
            "38%,46%,15%\n"
          ]
        }
      ]
    },
    {
      "cell_type": "code",
      "source": [
        "# # Questions\n",
        "# Practice Questions:\n",
        "\n",
        "# 1. **You're creating a program to manage a zoo's animal population. Declare a variable lion_population with an initial value of 10. The zoo welcomes 5 new lion cubs. Update the lion_population variable and print the total lion population.**\n",
        "\n",
        "# 2. **You're developing a weather monitoring system. Declare a variable temperature with a value of 25.5 degrees Celsius. Due to a sudden heatwave, the temperature increases by 8 degrees. Update and print the new temperature.**\n",
        "\n",
        "# 3. **A science experiment involves tracking the growth of a plant. Declare a variable plant_height with an initial value of 15 centimeters. Over a week, the plant grows 2.5 centimeters taller each day. Update and print the final height of the plant after the week.**\n",
        "\n",
        "\n",
        "\n",
        "# 4. **You're designing a space mission trajectory. Declare variables initial_velocity and acceleration with values 3000 meters per second and 500 meters per second squared respectively. Calculate and print the final velocity after 10 seconds.**\n",
        "\n",
        "# 5. **A group of friends is sharing a pizza. Declare a variable pizza_slices with a value of 8. Each friend wants to have an equal number of slices, and there are 5 friends. Calculate and print the maximum number of slices each friend can have without cutting the pizza.**\n",
        "\n",
        "# 6. **You're modeling the movement of a pendulum. Declare a variable pendulum_length with a value of 1.2 meters. Calculate and print the period of oscillation (time taken for one complete swing) using the formula \\( T = 2\\pi \\sqrt{\\frac{L}{g}} \\), where \\( \\pi \\) is pi (approximately 3.14159) and \\( g \\) is the acceleration due to gravity (approximately \\( 9.81 \\) meters per second squared).**\n",
        "\n",
        "\n",
        "# 7. **A software company is tracking the number of bugs in their codebase. Declare a variable bug_count with an initial value of 100. After a round of debugging, 35 bugs are fixed. Update and print the new bug_count.**\n",
        "\n",
        "# 8. **You're building a game where players collect gems. Declare a variable gem_count with an initial value of 50. Each time a player finds a gem, 5 gems are added to their collection. Update and print the new gem_count.**\n",
        "\n",
        "# 9. **A fitness tracker is monitoring a user's heart rate variability (HRV). Declare a variable hrv_index with an initial value of 80. After a relaxation session, the user's HRV improves by 10 points. Update and print the new hrv_index.**\n",
        "\n",
        "# 10. **You're simulating the growth of a bacterial colony. Declare a variable bacteria_count with an initial value of 5000. Over a day, the colony doubles in size every 4 hours. Update and print the new bacteria_count.**"
      ],
      "metadata": {
        "id": "d563isZTijnX"
      },
      "execution_count": null,
      "outputs": []
    },
    {
      "cell_type": "code",
      "source": [
        "#question 1\n",
        "lion_population = 10\n",
        "lion_population += 5\n",
        "print(lion_population)"
      ],
      "metadata": {
        "colab": {
          "base_uri": "https://localhost:8080/"
        },
        "id": "BE1yoD3P1d_A",
        "outputId": "b0b2a2aa-ae7a-4c51-a495-0cf8e2621cbf"
      },
      "execution_count": null,
      "outputs": [
        {
          "output_type": "stream",
          "name": "stdout",
          "text": [
            "15\n"
          ]
        }
      ]
    },
    {
      "cell_type": "code",
      "source": [
        "# question 2\n",
        "temperature = 25.5\n",
        "temperature += 8\n",
        "print(f\"{temperature}°c\")"
      ],
      "metadata": {
        "colab": {
          "base_uri": "https://localhost:8080/"
        },
        "id": "QBJcS9dPCe75",
        "outputId": "a3bed250-f497-4a0a-fda1-0f66f2f568c4"
      },
      "execution_count": null,
      "outputs": [
        {
          "output_type": "stream",
          "name": "stdout",
          "text": [
            "33.5°c\n"
          ]
        }
      ]
    },
    {
      "cell_type": "code",
      "source": [
        "# question 3\n",
        "plant_height = 15\n",
        "plant_grows = 2.5\n",
        "week_growth = 7*plant_grows\n",
        "final_height = plant_height + week_growth\n",
        "print(f\"{final_height}c\")\n",
        "print(final_height,\"c\")"
      ],
      "metadata": {
        "colab": {
          "base_uri": "https://localhost:8080/"
        },
        "id": "Fxvtcb4qC46w",
        "outputId": "bb841637-407a-4e6d-9449-c2765ee6eb95"
      },
      "execution_count": null,
      "outputs": [
        {
          "output_type": "stream",
          "name": "stdout",
          "text": [
            "32.5c\n"
          ]
        }
      ]
    },
    {
      "cell_type": "code",
      "source": [
        "# question 4\n",
        "initial_velocity = 3000\n",
        "acceleration = 500\n",
        "time = 10\n",
        "velocity = acceleration * time\n",
        "final_velocity = initial_velocity + velocity\n",
        "print(final_velocity)"
      ],
      "metadata": {
        "colab": {
          "base_uri": "https://localhost:8080/"
        },
        "id": "meupeRB6D-nJ",
        "outputId": "ab8a459e-8944-4497-a807-7479e65d2871"
      },
      "execution_count": null,
      "outputs": [
        {
          "output_type": "stream",
          "name": "stdout",
          "text": [
            "8000\n"
          ]
        }
      ]
    },
    {
      "cell_type": "code",
      "source": [
        "#question 5\n",
        "pizza_slices = 8\n",
        "total_friends = 5\n",
        "pizza = pizza_slices // total_friends\n",
        "print(pizza)"
      ],
      "metadata": {
        "colab": {
          "base_uri": "https://localhost:8080/"
        },
        "id": "UN107STKFRam",
        "outputId": "99f1497c-86a4-4da3-a73c-9b1d0de6b81e"
      },
      "execution_count": null,
      "outputs": [
        {
          "output_type": "stream",
          "name": "stdout",
          "text": [
            "1\n"
          ]
        }
      ]
    },
    {
      "cell_type": "code",
      "source": [
        "# question 6\n",
        "pendulum_length = 1.2\n",
        "pi = 3.14159\n",
        "g = 9.81\n",
        "T = 2*pi*((pendulum_length/g)**0.5)\n",
        "print(T)"
      ],
      "metadata": {
        "colab": {
          "base_uri": "https://localhost:8080/"
        },
        "id": "5IGsNMDWF9jn",
        "outputId": "92f3dbf5-de4d-49f0-b2f8-87037aacbdc8"
      },
      "execution_count": null,
      "outputs": [
        {
          "output_type": "stream",
          "name": "stdout",
          "text": [
            "2.197534089590265\n"
          ]
        }
      ]
    },
    {
      "cell_type": "code",
      "source": [
        "# question 7\n",
        "bug_count = 100\n",
        "bugs_fixed = 35\n",
        "bug_count -= bugs_fixed\n",
        "print(bug_count)"
      ],
      "metadata": {
        "colab": {
          "base_uri": "https://localhost:8080/"
        },
        "id": "pY-9dzqcII0H",
        "outputId": "5fe8a408-1ee1-4e3b-fbd7-d009e7c7d0a4"
      },
      "execution_count": null,
      "outputs": [
        {
          "output_type": "stream",
          "name": "stdout",
          "text": [
            "65\n"
          ]
        }
      ]
    },
    {
      "cell_type": "code",
      "source": [
        "# question 8\n",
        "gem_count = 50\n",
        "gem_count += 5\n",
        "print(gem_count)\n",
        "# num = int(input(\"enter how many times you got the turn: \"))\n"
      ],
      "metadata": {
        "id": "114BrOoxIeuA",
        "colab": {
          "base_uri": "https://localhost:8080/"
        },
        "outputId": "b108058d-bc21-484d-f849-6cd8b5a391e4"
      },
      "execution_count": 1,
      "outputs": [
        {
          "output_type": "stream",
          "name": "stdout",
          "text": [
            "55\n"
          ]
        }
      ]
    },
    {
      "cell_type": "code",
      "source": [],
      "metadata": {
        "id": "iOxgE0C4iAVV"
      },
      "execution_count": null,
      "outputs": []
    },
    {
      "cell_type": "code",
      "source": [
        "# question 9\n",
        "hrv_index = 80\n",
        "hrv_index += 10\n",
        "print(f\"Your HRV index is now {hrv_index}.\")"
      ],
      "metadata": {
        "colab": {
          "base_uri": "https://localhost:8080/"
        },
        "id": "OiItxBtHh1pO",
        "outputId": "a5e00c63-e7db-4988-8265-80dab92edc9b"
      },
      "execution_count": 2,
      "outputs": [
        {
          "output_type": "stream",
          "name": "stdout",
          "text": [
            "Your HRV index is now 90.\n"
          ]
        }
      ]
    },
    {
      "cell_type": "code",
      "source": [
        "# question 10\n",
        "bacteria_count = 5000\n",
        "for _ in range(3):  # 3 * 4 = 12 hours\n",
        "    bacteria_count *= 2\n",
        "print(f\"After 12 hours, there are {bacteria_count} bacteria.\")\n"
      ],
      "metadata": {
        "colab": {
          "base_uri": "https://localhost:8080/"
        },
        "id": "peOIT1QviMLB",
        "outputId": "c83c79e8-a730-4893-db5b-26abaab2e3b2"
      },
      "execution_count": 3,
      "outputs": [
        {
          "output_type": "stream",
          "name": "stdout",
          "text": [
            "After 12 hours, there are 40000 bacteria.\n"
          ]
        }
      ]
    }
  ]
}